{
 "cells": [
  {
   "cell_type": "code",
   "execution_count": 1,
   "metadata": {},
   "outputs": [],
   "source": [
    "import tweepy\n",
    "from textblob import TextBlob"
   ]
  },
  {
   "cell_type": "code",
   "execution_count": 2,
   "metadata": {},
   "outputs": [],
   "source": [
    "consumer_key= \"PM0WOeSfGjg5FLtSkdeAhqHXt\"\n",
    "consumer_key_secret= \"s9ZzGZqBgSpjzQoY0rcuJXOj0tJ6ZqhJMvrNszse13dqFhpmZ5\"\n",
    "access_token= \"1183299959925248001-2dzurQvdh9lq4leU7f6et2yCrUBp4j\"\n",
    "access_token_secret= \"STSM7VLsvyNLzNn8KykCiytdj7hHpEnusIpmKPgcdeEaL\""
   ]
  },
  {
   "cell_type": "code",
   "execution_count": 3,
   "metadata": {},
   "outputs": [],
   "source": [
    "auth=tweepy.OAuthHandler(consumer_key,consumer_key_secret)\n",
    "auth.set_access_token(access_token,access_token_secret)\n",
    "api=tweepy.API(auth)\n",
    "public_tweets=api.search(\"Sushant Singh Rajput\")"
   ]
  },
  {
   "cell_type": "code",
   "execution_count": 4,
   "metadata": {},
   "outputs": [
    {
     "name": "stdout",
     "output_type": "stream",
     "text": [
      "RT @kirti64876334: The book lover Sushant Singh Rajput♥️🥰😘\n",
      "\n",
      "MULTITALENTED SSR https://t.co/cUoEHCIG8h\n",
      "Sentiment(polarity=0.0, subjectivity=0.0)\n",
      "Neutral\n",
      "RT @SrijitaTwinkle: World - Multi- talented 😌\n",
      "\n",
      "SSRians - Sushant Singh Rajput❤\n",
      "\n",
      "❤ MULTITALENTED SSR ❤ https://t.co/CAUjy91UDE\n",
      "Sentiment(polarity=0.7, subjectivity=0.9)\n",
      "Positive\n",
      "RT @Shivama60514632: 🇺🇲   : Inspiration\n",
      "\n",
      "🇮🇳   :Sushant Singh Rajput\n",
      "\n",
      "MULTITALENTED SSR https://t.co/NMtYcpwedb\n",
      "Sentiment(polarity=0.0, subjectivity=0.0)\n",
      "Neutral\n",
      "RT @Shona21062594: One And Only \n",
      "MULTI TALENTED Person in this world I Know \n",
      "\n",
      "Sushant Singh Rajput. @itsSSR\n",
      "\n",
      "MULTI TALENTED SSR \n",
      "@ssrwarrio…\n",
      "Sentiment(polarity=0.4666666666666666, subjectivity=0.9333333333333332)\n",
      "Positive\n",
      "RT @deepgrewal83: DAILY REMINDER: \n",
      "No Chanda Mama Door ke without SUSHANT SINGH RAJPUT. We fans won't accept any actor in his place. We fan…\n",
      "Sentiment(polarity=0.0, subjectivity=0.0)\n",
      "Neutral\n",
      "We love you our Sushant Singh Rajput we will bring Justice for you! Trust us! We won't betray you! We Won't stopp t… https://t.co/qn7h8CFK09\n",
      "Sentiment(polarity=0.9765625, subjectivity=0.6)\n",
      "Positive\n",
      "RT @Khushi19642991: EVENING TREND ALERT 📢 \n",
      "\n",
      "FOR OUR BELOVED SUSHANT ❤ \n",
      "\n",
      "BEST ACTOR WITH HARDWORK\n",
      "PURE HEARTED INNOCENT MULTI\n",
      "TALENTED SUSHA…\n",
      "Sentiment(polarity=0.6228571428571428, subjectivity=0.6799999999999999)\n",
      "Positive\n",
      "RT @RimiSworld: Sushant Singh Rajput\n",
      "Forever and Forever and Forever\n",
      "\n",
      " MULTITALENTED SSR @itsSSR\n",
      "\n",
      "@nilotpalm3 https://t.co/5sDHeHzU37\n",
      "Sentiment(polarity=0.0, subjectivity=0.0)\n",
      "Neutral\n",
      "RT @NehaT1923: Masoomiyat ka bhandar,\n",
      "Talent ki khadaan one n only our Sushant Singh Rajput\n",
      "Jo bhi dekhe fakar kre humare \n",
      "MULTITALENTED SS…\n",
      "Sentiment(polarity=0.0, subjectivity=1.0)\n",
      "Neutral\n",
      "RT @GlobalSsr: 🔱 EVENING TWEET ACTIVITY 🔱\n",
      "\n",
      "For Spreading Positivity, Love and Smiles  ✅\n",
      "Multi talented @itsSSR\n",
      "Multi faceted SUSHANT\n",
      "Multi…\n",
      "Sentiment(polarity=0.6, subjectivity=0.75)\n",
      "Positive\n",
      "RT @Shona21062594: One And Only \n",
      "MULTI TALENTED Person in this world I Know \n",
      "\n",
      "Sushant Singh Rajput. @itsSSR\n",
      "\n",
      "MULTI TALENTED SSR \n",
      "@ssrwarrio…\n",
      "Sentiment(polarity=0.4666666666666666, subjectivity=0.9333333333333332)\n",
      "Positive\n",
      "RT @MNR_speaks: Bullywood is NOTHING In Front Of Our MULTITALENTED SSR\n",
      "\n",
      "One And Only All rounder /versatile actor in BW\n",
      "\n",
      "\"Sushant Singh Raj…\n",
      "Sentiment(polarity=0.0, subjectivity=1.0)\n",
      "Neutral\n",
      "RT @Sir_Warrior: \"I pray to God every day that he makes me the biggest superstar, but before that, I ask God to make me a good actor. Being…\n",
      "Sentiment(polarity=0.7, subjectivity=0.6000000000000001)\n",
      "Positive\n",
      "RT @MadhuparnaMukh2: The entrepreneur Sushant Singh Rajput\n",
      "MULTITALENTED SSR\n",
      "Sentiment(polarity=0.0, subjectivity=0.0)\n",
      "Neutral\n",
      "RT @RimiSworld: Sushant Singh Rajput\n",
      "Forever and Forever and Forever\n",
      "\n",
      " MULTITALENTED SSR @itsSSR\n",
      "\n",
      "@nilotpalm3 https://t.co/5sDHeHzU37\n",
      "Sentiment(polarity=0.0, subjectivity=0.0)\n",
      "Neutral\n"
     ]
    }
   ],
   "source": [
    "for tweet in public_tweets:\n",
    "    print(tweet.text)\n",
    "    analysis=TextBlob(tweet.text)\n",
    "    print(analysis.sentiment)\n",
    "    \n",
    "    if(analysis.sentiment[0]>0):\n",
    "        print('Positive')\n",
    "    elif(analysis.sentiment[0]<0):\n",
    "        print('Negative')\n",
    "    else:\n",
    "        print('Neutral')"
   ]
  },
  {
   "cell_type": "code",
   "execution_count": null,
   "metadata": {},
   "outputs": [],
   "source": []
  }
 ],
 "metadata": {
  "kernelspec": {
   "display_name": "Python 3",
   "language": "python",
   "name": "python3"
  },
  "language_info": {
   "codemirror_mode": {
    "name": "ipython",
    "version": 3
   },
   "file_extension": ".py",
   "mimetype": "text/x-python",
   "name": "python",
   "nbconvert_exporter": "python",
   "pygments_lexer": "ipython3",
   "version": "3.8.3"
  }
 },
 "nbformat": 4,
 "nbformat_minor": 4
}
